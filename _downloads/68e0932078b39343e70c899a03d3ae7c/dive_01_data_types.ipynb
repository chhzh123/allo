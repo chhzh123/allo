{
  "cells": [
    {
      "cell_type": "markdown",
      "metadata": {},
      "source": [
        "\n# Data Types and Type Casting\n\n**Author**: Hongzheng Chen (hzchen@cs.cornell.edu)\n\nThis document will discuss the Allo-supported data types in detail.\nAll the data types are defined in the ``allo.ir.types`` module.\n"
      ]
    },
    {
      "cell_type": "code",
      "execution_count": null,
      "metadata": {
        "collapsed": false
      },
      "outputs": [],
      "source": [
        "import allo\nfrom allo.ir.types import int16, int32, float32, Int, UInt, Float, Fixed"
      ]
    },
    {
      "cell_type": "markdown",
      "metadata": {},
      "source": [
        "Currently, Allo supports three base data types for mathematical operations:\n\n- Integers: ``Int(bitwdith)``, ``UInt(bitwidth)``\n- Floating points: ``Float(bitwidth)`` (only support 16, 32, and 64 bits)\n- Fixed points: ``Fixed(bitwidth, frac)``, ``UFixed(bitwidth, frac)``\n\nFor example, one can declare a 15-bit integer as ``Int(15)`` and an unsigned 8-bit fixed-point number with 3 fractional bits as ``UFixed(8, 3)``.\nFor all the C/C++ supported data types, we provide shorthands like ``float32`` and ``int16`` to easily declare them.\n\n"
      ]
    },
    {
      "cell_type": "markdown",
      "metadata": {},
      "source": [
        "Notice different from native Python, Allo requires the program to be **strongly and statically typed**.\nThe variable types are either declared explicitly or inferred from the context.\nFor a variable that first appears in the program, we should declare it with an expected data type using Python's type hint notation:\n\n"
      ]
    },
    {
      "cell_type": "code",
      "execution_count": null,
      "metadata": {
        "collapsed": false
      },
      "outputs": [],
      "source": [
        "a: int32"
      ]
    },
    {
      "cell_type": "markdown",
      "metadata": {},
      "source": [
        "Once the data types are defined, an important consideration is how to handle\noperations between variables of different types. Allo supports two types of casting:\n(1) implicit casting that is automatically done by the Allo compiler;\nand (2) explicit casting that is manually done by the user.\n\n"
      ]
    },
    {
      "cell_type": "markdown",
      "metadata": {},
      "source": [
        "## Implicit Casting\nAllo has a strong type system that follows the [MLIR convention](https://mlir.llvm.org/docs/Dialects/ArithOps/) to enforce the operand types are the same for the arithmetic operations.\nHowever, it is burdensome for users to cast the variables every time, and it is also error-prone to avoid overflow when performing computations.\nTherefore, Allo is equipped with builtin casting rules to automatically cast the variables to the same type before the operation, which is called *implicit casting*.\nAn example is shown below:\n\n"
      ]
    },
    {
      "cell_type": "code",
      "execution_count": null,
      "metadata": {
        "collapsed": false
      },
      "outputs": [],
      "source": [
        "def add(a: int32, b: int32) -> int32:\n    return a + b\n\n\ns = allo.customize(add)\nprint(s.module)"
      ]
    },
    {
      "cell_type": "markdown",
      "metadata": {},
      "source": [
        "We can see that ``a`` and ``b`` are firstly casted to ``int33``, added\ntogether, and converted back to ``int32``.\nThis is to avoid overflow and is automatically inferred by the Allo compiler.\n\n"
      ]
    },
    {
      "cell_type": "markdown",
      "metadata": {},
      "source": [
        "## Explicit Casting\nOne can also explicitly cast the variable to a specific type by creating an intermediate variable,\nor use Python-builtin functions like ``float()`` and ``int()`` to explicitly cast a variable to ``float32`` or ``int32``.\nAnother example is shown below:\n\n"
      ]
    },
    {
      "cell_type": "code",
      "execution_count": null,
      "metadata": {
        "collapsed": false
      },
      "outputs": [],
      "source": [
        "def cast(a: int32) -> int16:\n    b: float32 = a  # explicit\n    c: float32 = b * 2\n    d: float32 = float(a) * 2\n    e: int16 = c + d\n    return e\n\n\ns = allo.customize(cast)\nprint(s.module)"
      ]
    },
    {
      "cell_type": "markdown",
      "metadata": {},
      "source": [
        "By explicitly creating an intermediate variable ``b``, we can cast the ``int32`` variable ``a`` to the desired floating-point type.\nSimilarly, calling ``float(a)`` can also cast ``a`` to a floating-point type.\n\n<div class=\"alert alert-info\"><h4>Note</h4><p>The above stated explicit casting between integers and floating points preserves the value but the precision may be changed.\n   If you want to use a union type to represent both integers and floating points, please use the `.bitcast()` API instead. For example, ``a.bitcast()`` can convert ``int32`` to ``float32`` representation with the bit pattern preserved.</p></div>\n\n"
      ]
    },
    {
      "cell_type": "markdown",
      "metadata": {},
      "source": [
        "## Bit Operations\nAs hardware accelerators have ability to manipulate each bit of the data, Allo supports bit operations on\nthose integer types. For example, we can access a specific bit in an integer ``a`` using the indexing operator:\n\n```python\na[15]\n```\n"
      ]
    },
    {
      "cell_type": "markdown",
      "metadata": {},
      "source": [
        "We can also extract a chunk of bits from an integer using the slicing operator:\n\n```python\na[0:16]\n```\n<div class=\"alert alert-info\"><h4>Note</h4><p>Allo follows the Python convention that the upper bound is not included, so ``[0:16]`` means\n   extracting the first 16 bits, which is different from the Xilinx HLS convention that uses ``[0:15]``\n   to indicate the first 16 bits.</p></div>\n\n"
      ]
    },
    {
      "cell_type": "markdown",
      "metadata": {},
      "source": [
        "Not only constant values are supported, but also variables can be used as the index or the slice range.\n\n"
      ]
    }
  ],
  "metadata": {
    "kernelspec": {
      "display_name": "Python 3",
      "language": "python",
      "name": "python3"
    },
    "language_info": {
      "codemirror_mode": {
        "name": "ipython",
        "version": 3
      },
      "file_extension": ".py",
      "mimetype": "text/x-python",
      "name": "python",
      "nbconvert_exporter": "python",
      "pygments_lexer": "ipython3",
      "version": "3.12.5"
    }
  },
  "nbformat": 4,
  "nbformat_minor": 0
}