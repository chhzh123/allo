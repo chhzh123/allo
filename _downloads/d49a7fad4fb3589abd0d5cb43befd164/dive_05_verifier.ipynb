{
  "cells": [
    {
      "cell_type": "markdown",
      "metadata": {},
      "source": [
        "\n# Equivalence Checking\n\n**Author**: Hongzheng Chen (hzchen@cs.cornell.edu)\n\nIn this tutorial, we demonstrate how to use Allo's verifier facility to check the equivalence of different scheduling transformations. The verifier ensures that various optimizations applied to the same algorithm do not alter its functional behavior.\n\nFirst, we import the necessary packages:\n"
      ]
    },
    {
      "cell_type": "code",
      "execution_count": null,
      "metadata": {
        "collapsed": false
      },
      "outputs": [],
      "source": [
        "import allo\nfrom allo.ir.types import float32"
      ]
    },
    {
      "cell_type": "markdown",
      "metadata": {},
      "source": [
        "## Create the Schedule\nWe define a general matrix multiplication (GEMM) kernel that takes two 32x32 matrices as inputs\nand produces a 32x32 output matrix. The reduction loop is used to accumulate the multiplication results.\n\n"
      ]
    },
    {
      "cell_type": "code",
      "execution_count": null,
      "metadata": {
        "collapsed": false
      },
      "outputs": [],
      "source": [
        "def gemm(A: float32[32, 32], B: float32[32, 32]) -> float32[32, 32]:\n    C: float32[32, 32] = 0\n    for i, j in allo.grid(32, 32):\n        for k in allo.reduction(32):\n            C[i, j] += A[i, k] * B[k, j]\n    return C"
      ]
    },
    {
      "cell_type": "markdown",
      "metadata": {},
      "source": [
        "We create two schedules for the GEMM kernel using different transformations.\nThe first schedule, **s1**, applies a loop reordering transformation, while the second schedule, **s2**, applies a buffering transformation on the output tensor.\n\n"
      ]
    },
    {
      "cell_type": "code",
      "execution_count": null,
      "metadata": {
        "collapsed": false
      },
      "outputs": [],
      "source": [
        "s1 = allo.customize(gemm)\ns1.reorder(\"gemm:i\", \"gemm:j\")\nprint(s1.module)"
      ]
    },
    {
      "cell_type": "markdown",
      "metadata": {},
      "source": [
        "In the code above, **s1** is customized by reordering the loops corresponding to indices ``i`` and ``j``.\nThe printed intermediate representation (IR) shows the effect of this transformation.\n\n"
      ]
    },
    {
      "cell_type": "code",
      "execution_count": null,
      "metadata": {
        "collapsed": false
      },
      "outputs": [],
      "source": [
        "s2 = allo.customize(gemm)\ns2.buffer_at(s2.C, axis=\"i\")\nprint(s2.module)"
      ]
    },
    {
      "cell_type": "markdown",
      "metadata": {},
      "source": [
        "Here, a buffering transformation is applied on tensor ``C`` along the ``i`` axis.\nThe IR output confirms that the transformation has been incorporated.\nAlthough the schedules differ in structure, they should implement equivalent functionality.\n\n"
      ]
    },
    {
      "cell_type": "markdown",
      "metadata": {},
      "source": [
        "## Verifying Equivalence\nNext, we use the verifier facility to check whether the two schedules, **s1** and **s2**,\nare equivalent. The ``allo.verify`` function compares the schedules and returns a truthy\nvalue if they are functionally identical.\n\n"
      ]
    },
    {
      "cell_type": "code",
      "execution_count": null,
      "metadata": {
        "collapsed": false
      },
      "outputs": [],
      "source": [
        "verifier = allo.verify(s1, s2)\nassert verifier, \"Failed to verify the equivalence of two schedules!\"\nprint(\"s1 and s2 are equivalent!\")"
      ]
    },
    {
      "cell_type": "markdown",
      "metadata": {},
      "source": [
        "The assertion confirms that the transformations applied in **s1** and **s2** preserve the semantics of the original GEMM algorithm.\n\n"
      ]
    },
    {
      "cell_type": "markdown",
      "metadata": {},
      "source": [
        "## Introducing a Non-equivalent Schedule\nTo illustrate the effectiveness of the verifier, we define an alternative GEMM kernel, **gemm_wrong**,\nwhich incorrectly implements the multiplication by overwriting the output instead of\naccumulating the results. The schedule derived from **gemm_wrong** (named **s3**)\nshould not be equivalent to **s1**.\n\n"
      ]
    },
    {
      "cell_type": "code",
      "execution_count": null,
      "metadata": {
        "collapsed": false
      },
      "outputs": [],
      "source": [
        "def gemm_wrong(A: float32[32, 32], B: float32[32, 32]) -> float32[32, 32]:\n    C: float32[32, 32] = 0\n    for i, j in allo.grid(32, 32):\n        for k in allo.reduction(32):\n            C[i, j] = A[i, k] * B[k, j]\n    return C\n\n\ns3 = allo.customize(gemm_wrong)\nprint(s3.module)\nverifier = allo.verify(s1, s3)\nassert not verifier, \"Failed to verify the equivalence of two schedules!\"\nprint(\"s1 and s3 are not equivalent!\")"
      ]
    },
    {
      "cell_type": "markdown",
      "metadata": {},
      "source": [
        "The verifier correctly detects that **s3** does not preserve the intended accumulation,\nthus confirming that **s1** and **s3** are not equivalent.\n\n"
      ]
    },
    {
      "cell_type": "markdown",
      "metadata": {},
      "source": [
        "## Conclusion\nThis tutorial has demonstrated how to use Allo's verifier facility to ensure that different\nscheduling transformations yield equivalent computational behavior. By verifying the equivalence\nof various schedules, you can confidently apply optimizations without compromising the\nfunctional correctness of your algorithms.\n\n"
      ]
    }
  ],
  "metadata": {
    "kernelspec": {
      "display_name": "Python 3",
      "language": "python",
      "name": "python3"
    },
    "language_info": {
      "codemirror_mode": {
        "name": "ipython",
        "version": 3
      },
      "file_extension": ".py",
      "mimetype": "text/x-python",
      "name": "python",
      "nbconvert_exporter": "python",
      "pygments_lexer": "ipython3",
      "version": "3.12.5"
    }
  },
  "nbformat": 4,
  "nbformat_minor": 0
}