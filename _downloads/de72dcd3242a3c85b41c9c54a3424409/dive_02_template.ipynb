{
  "cells": [
    {
      "cell_type": "markdown",
      "metadata": {},
      "source": [
        "\n# Template Kernels\n\n**Author**: Hongzheng Chen (hzchen@cs.cornell.edu)\n\nThis document explains how to write a template kernel in Allo.\nTemplate kernels are useful when we need to reuse a kernel with different data types or when certain computation patterns depend on specific constants.\nBy leveraging template kernels, we can achieve greater flexibility and reusability in the code.\n"
      ]
    },
    {
      "cell_type": "code",
      "execution_count": null,
      "metadata": {
        "collapsed": false
      },
      "outputs": [],
      "source": [
        "import allo\nfrom allo.ir.types import int32, float32"
      ]
    },
    {
      "cell_type": "markdown",
      "metadata": {},
      "source": [
        "We follow Python's convention to use *type variable* to define a template kernel.\nSpecifically, the type variable is specified after the function name using square brackets: ``def kernel[T](...)``, and the type variable can be used in the function signature and body.\nImportantly, as the native Python interpreter does not support Allo's type declaration (i.e., base type + shape), we need to use string annotations like ``\"T[10]\"`` to specify the type of the variables.\nOtherwise, it will raise a type error.\n\nIn the following, we define a simple addition function that adds 1 to each element of the input array.\nTo invoke the kernel with a specific data type, we can use the ``instantiate`` argument in the ``allo.customize`` function.\n\n"
      ]
    },
    {
      "cell_type": "code",
      "execution_count": null,
      "metadata": {
        "collapsed": false
      },
      "outputs": [],
      "source": [
        "def kernel[T](A: \"T[10]\") -> \"T[10]\":\n    B: T[10]\n    for i in range(10):\n        B[i] = A[i] + 1\n    return B\n\n\ns = allo.customize(kernel, instantiate=[int32])\nprint(s.module)"
      ]
    },
    {
      "cell_type": "markdown",
      "metadata": {},
      "source": [
        "We can see that the kernel is specialized with the given ``int32`` data type.\nSimilarly, we can directly declare a new kernel by specifying ``float32`` as the data type.\n\n"
      ]
    },
    {
      "cell_type": "code",
      "execution_count": null,
      "metadata": {
        "collapsed": false
      },
      "outputs": [],
      "source": [
        "s = allo.customize(kernel, instantiate=[float32])\nprint(s.module)"
      ]
    },
    {
      "cell_type": "markdown",
      "metadata": {},
      "source": [
        "If we not only want to specialize the data type but also the shape of the array, we can provide another type variable, and pass it to the ``instantiate`` argument.\nNote that here we also use the ``<type_var>: base_type`` notation to constrain the type of the type variable. Here we constrain the type variable ``M`` to be an integer.\n\n"
      ]
    },
    {
      "cell_type": "code",
      "execution_count": null,
      "metadata": {
        "collapsed": false
      },
      "outputs": [],
      "source": [
        "def kernel2[T, M: int32](A: \"T[M]\") -> \"T[M]\":\n    B: T[M]\n    for i in range(M):\n        B[i] = A[i] + 1\n    return B\n\n\ns = allo.customize(kernel2, instantiate=[int32, 20])\nprint(s.module)"
      ]
    },
    {
      "cell_type": "markdown",
      "metadata": {},
      "source": [
        "Furthermore, Allo's template also enables metaprogramming that can evaluate type variables at compile time.\nSpecifically, we can use the ``allo.meta_if``, ``allo.meta_elif``, and ``allo.meta_else`` to conditionally generate code based on the type variables.\nJust to make sure the conditions can be determined at compile time.\n\n"
      ]
    },
    {
      "cell_type": "code",
      "execution_count": null,
      "metadata": {
        "collapsed": false
      },
      "outputs": [],
      "source": [
        "def kernel3[T, M: int32](A: \"T[M]\") -> \"T[M]\":\n    B: T[M]\n    for i in range(M):\n        with allo.meta_if(T == int32):\n            B[i] = A[i] + 1\n        with allo.meta_else():\n            B[i] = A[i] - 1\n    return B"
      ]
    },
    {
      "cell_type": "markdown",
      "metadata": {},
      "source": [
        "In final generated code, we can see that only a single branch is generated based on the given data type.\n\n"
      ]
    },
    {
      "cell_type": "code",
      "execution_count": null,
      "metadata": {
        "collapsed": false
      },
      "outputs": [],
      "source": [
        "s = allo.customize(kernel3, instantiate=[int32, 20])\nprint(s.module)\ns = allo.customize(kernel3, instantiate=[float32, 20])\nprint(s.module)"
      ]
    }
  ],
  "metadata": {
    "kernelspec": {
      "display_name": "Python 3",
      "language": "python",
      "name": "python3"
    },
    "language_info": {
      "codemirror_mode": {
        "name": "ipython",
        "version": 3
      },
      "file_extension": ".py",
      "mimetype": "text/x-python",
      "name": "python",
      "nbconvert_exporter": "python",
      "pygments_lexer": "ipython3",
      "version": "3.12.5"
    }
  },
  "nbformat": 4,
  "nbformat_minor": 0
}