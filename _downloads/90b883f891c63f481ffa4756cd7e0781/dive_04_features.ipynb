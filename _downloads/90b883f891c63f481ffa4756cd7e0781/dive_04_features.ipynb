{
  "cells": [
    {
      "cell_type": "markdown",
      "metadata": {},
      "source": [
        "\n# Other Features\n\n**Author**: Hongzheng Chen (hzchen@cs.cornell.edu)\n\nThis document will discuss other features that are not covered in the previous tutorials.\n"
      ]
    },
    {
      "cell_type": "markdown",
      "metadata": {},
      "source": [
        "## Dynamic Shapes\nIn some cases, the shape of the tensor is not known at compile time, so we can use ``[...]`` to represent the dynamic shape.\nFrom the generated MLIR module, we can see it has a ``\"?\"`` in the shape of the tensor, which means the shape is not predefined,\nbut we can still run the LLVM module with arbitrary shapes of NumPy arrays.\n\n"
      ]
    },
    {
      "cell_type": "code",
      "execution_count": null,
      "metadata": {
        "collapsed": false
      },
      "outputs": [],
      "source": [
        "import allo\nfrom allo.ir.types import int32, float32\nimport numpy as np\n\n\ndef kernel(A: float32[...], B: float32[...], size: int32):\n    for i in range(size):\n        B[i] = A[i]\n\n\ns = allo.customize(kernel)\nprint(s.module)\nnp_A = np.random.random((256,)).astype(np.float32)\nallo_A = np.zeros((256,)).astype(np.float32)\nmod = s.build()\nmod(np_A, allo_A, 256)\nnp.testing.assert_allclose(np_A, allo_A)"
      ]
    },
    {
      "cell_type": "markdown",
      "metadata": {},
      "source": [
        "We can also check the generated HLS code that the arguments are declared as pointers.\n\n"
      ]
    },
    {
      "cell_type": "code",
      "execution_count": null,
      "metadata": {
        "collapsed": false
      },
      "outputs": [],
      "source": [
        "code = s.build(target=\"vhls\")\nprint(code)"
      ]
    },
    {
      "cell_type": "markdown",
      "metadata": {},
      "source": [
        "## Tuple Return\nAnother feature is the tuple support. As in Python, we can return multiple values from a function, Allo\nalso supports this by explicitly specifying the return type as a tuple.\n\n"
      ]
    },
    {
      "cell_type": "code",
      "execution_count": null,
      "metadata": {
        "collapsed": false
      },
      "outputs": [],
      "source": [
        "def callee(a: float32, b: float32) -> (float32, float32):\n    c: float32 = a + b\n    d: float32 = a - b\n    return c, d\n\n\ndef kernel(A: float32[10], B: float32[10]) -> (float32[10], float32[10]):\n    C: float32[10] = 0\n    D: float32[10] = 0\n    for i in range(10):\n        C[i], D[i] = callee(A[i], B[i])\n    return C, D\n\n\ns = allo.customize(kernel)\nprint(s.module)\nmod = s.build()\nnp_A = np.random.random((10,)).astype(np.float32)\nnp_B = np.random.random((10,)).astype(np.float32)\nnp_C, np_D = mod(np_A, np_B)\nnp_C_ref = np.zeros((10,), dtype=np.float32)\nnp_D_ref = np.zeros((10,), dtype=np.float32)\nfor i in range(10):\n    np_C_ref[i], np_D_ref[i] = callee(np_A[i], np_B[i])\nnp.testing.assert_allclose(np_C, np_C_ref)\nnp.testing.assert_allclose(np_D, np_D_ref)"
      ]
    }
  ],
  "metadata": {
    "kernelspec": {
      "display_name": "Python 3",
      "language": "python",
      "name": "python3"
    },
    "language_info": {
      "codemirror_mode": {
        "name": "ipython",
        "version": 3
      },
      "file_extension": ".py",
      "mimetype": "text/x-python",
      "name": "python",
      "nbconvert_exporter": "python",
      "pygments_lexer": "ipython3",
      "version": "3.12.5"
    }
  },
  "nbformat": 4,
  "nbformat_minor": 0
}